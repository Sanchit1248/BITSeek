{
  "nbformat": 4,
  "nbformat_minor": 0,
  "metadata": {
    "colab": {
      "provenance": [],
      "collapsed_sections": [
        "j_PlUtJ459gq",
        "o9H14X5JWDZJ"
      ]
    },
    "kernelspec": {
      "name": "python3",
      "display_name": "Python 3"
    },
    "language_info": {
      "name": "python"
    }
  },
  "cells": [
    {
      "cell_type": "markdown",
      "metadata": {
        "id": "view-in-github"
      },
      "source": [
        "<a href=\"https://colab.research.google.com/github/dochrishistrange/bitsbot/blob/main/RAGmodelbulletin.ipynb\" target=\"_parent\"><img src=\"https://colab.research.google.com/assets/colab-badge.svg\" alt=\"Open In Colab\"/></a>"
      ]
    },
    {
      "cell_type": "markdown",
      "source": [
        "# **BITS_Bulletin**"
      ],
      "metadata": {
        "id": "Wdr6B-VHI_BE"
      }
    },
    {
      "cell_type": "markdown",
      "source": [
        "#  Importing libraries"
      ],
      "metadata": {
        "id": "rUV0E3wA9HoB"
      }
    },
    {
      "cell_type": "code",
      "source": [
        "!pip install langchain\n",
        "!pip install -U langchain-community\n",
        "!pip install pdfplumber\n",
        "!pip install chromadb\n",
        "!pip install -U -q google-generativeai"
      ],
      "metadata": {
        "colab": {
          "base_uri": "https://localhost:8080/"
        },
        "id": "8IYfE3HEqA2L",
        "outputId": "24dbfd1e-2107-4286-ebb6-4c6c7e5d5222",
        "collapsed": true
      },
      "execution_count": null,
      "outputs": [
        {
          "output_type": "stream",
          "name": "stdout",
          "text": [
            "Requirement already satisfied: langchain in /usr/local/lib/python3.11/dist-packages (0.3.26)\n",
            "Requirement already satisfied: langchain-core<1.0.0,>=0.3.66 in /usr/local/lib/python3.11/dist-packages (from langchain) (0.3.66)\n",
            "Requirement already satisfied: langchain-text-splitters<1.0.0,>=0.3.8 in /usr/local/lib/python3.11/dist-packages (from langchain) (0.3.8)\n",
            "Requirement already satisfied: langsmith>=0.1.17 in /usr/local/lib/python3.11/dist-packages (from langchain) (0.3.45)\n",
            "Requirement already satisfied: pydantic<3.0.0,>=2.7.4 in /usr/local/lib/python3.11/dist-packages (from langchain) (2.11.7)\n",
            "Requirement already satisfied: SQLAlchemy<3,>=1.4 in /usr/local/lib/python3.11/dist-packages (from langchain) (2.0.41)\n",
            "Requirement already satisfied: requests<3,>=2 in /usr/local/lib/python3.11/dist-packages (from langchain) (2.32.3)\n",
            "Requirement already satisfied: PyYAML>=5.3 in /usr/local/lib/python3.11/dist-packages (from langchain) (6.0.2)\n",
            "Requirement already satisfied: tenacity!=8.4.0,<10.0.0,>=8.1.0 in /usr/local/lib/python3.11/dist-packages (from langchain-core<1.0.0,>=0.3.66->langchain) (9.1.2)\n",
            "Requirement already satisfied: jsonpatch<2.0,>=1.33 in /usr/local/lib/python3.11/dist-packages (from langchain-core<1.0.0,>=0.3.66->langchain) (1.33)\n",
            "Requirement already satisfied: packaging<25,>=23.2 in /usr/local/lib/python3.11/dist-packages (from langchain-core<1.0.0,>=0.3.66->langchain) (24.2)\n",
            "Requirement already satisfied: typing-extensions>=4.7 in /usr/local/lib/python3.11/dist-packages (from langchain-core<1.0.0,>=0.3.66->langchain) (4.14.0)\n",
            "Requirement already satisfied: httpx<1,>=0.23.0 in /usr/local/lib/python3.11/dist-packages (from langsmith>=0.1.17->langchain) (0.28.1)\n",
            "Requirement already satisfied: orjson<4.0.0,>=3.9.14 in /usr/local/lib/python3.11/dist-packages (from langsmith>=0.1.17->langchain) (3.10.18)\n",
            "Requirement already satisfied: requests-toolbelt<2.0.0,>=1.0.0 in /usr/local/lib/python3.11/dist-packages (from langsmith>=0.1.17->langchain) (1.0.0)\n",
            "Requirement already satisfied: zstandard<0.24.0,>=0.23.0 in /usr/local/lib/python3.11/dist-packages (from langsmith>=0.1.17->langchain) (0.23.0)\n",
            "Requirement already satisfied: annotated-types>=0.6.0 in /usr/local/lib/python3.11/dist-packages (from pydantic<3.0.0,>=2.7.4->langchain) (0.7.0)\n",
            "Requirement already satisfied: pydantic-core==2.33.2 in /usr/local/lib/python3.11/dist-packages (from pydantic<3.0.0,>=2.7.4->langchain) (2.33.2)\n",
            "Requirement already satisfied: typing-inspection>=0.4.0 in /usr/local/lib/python3.11/dist-packages (from pydantic<3.0.0,>=2.7.4->langchain) (0.4.1)\n",
            "Requirement already satisfied: charset-normalizer<4,>=2 in /usr/local/lib/python3.11/dist-packages (from requests<3,>=2->langchain) (3.4.2)\n",
            "Requirement already satisfied: idna<4,>=2.5 in /usr/local/lib/python3.11/dist-packages (from requests<3,>=2->langchain) (3.10)\n",
            "Requirement already satisfied: urllib3<3,>=1.21.1 in /usr/local/lib/python3.11/dist-packages (from requests<3,>=2->langchain) (2.4.0)\n",
            "Requirement already satisfied: certifi>=2017.4.17 in /usr/local/lib/python3.11/dist-packages (from requests<3,>=2->langchain) (2025.6.15)\n",
            "Requirement already satisfied: greenlet>=1 in /usr/local/lib/python3.11/dist-packages (from SQLAlchemy<3,>=1.4->langchain) (3.2.3)\n",
            "Requirement already satisfied: anyio in /usr/local/lib/python3.11/dist-packages (from httpx<1,>=0.23.0->langsmith>=0.1.17->langchain) (4.9.0)\n",
            "Requirement already satisfied: httpcore==1.* in /usr/local/lib/python3.11/dist-packages (from httpx<1,>=0.23.0->langsmith>=0.1.17->langchain) (1.0.9)\n",
            "Requirement already satisfied: h11>=0.16 in /usr/local/lib/python3.11/dist-packages (from httpcore==1.*->httpx<1,>=0.23.0->langsmith>=0.1.17->langchain) (0.16.0)\n",
            "Requirement already satisfied: jsonpointer>=1.9 in /usr/local/lib/python3.11/dist-packages (from jsonpatch<2.0,>=1.33->langchain-core<1.0.0,>=0.3.66->langchain) (3.0.0)\n",
            "Requirement already satisfied: sniffio>=1.1 in /usr/local/lib/python3.11/dist-packages (from anyio->httpx<1,>=0.23.0->langsmith>=0.1.17->langchain) (1.3.1)\n",
            "Requirement already satisfied: langchain-community in /usr/local/lib/python3.11/dist-packages (0.3.26)\n",
            "Requirement already satisfied: langchain-core<1.0.0,>=0.3.66 in /usr/local/lib/python3.11/dist-packages (from langchain-community) (0.3.66)\n",
            "Requirement already satisfied: langchain<1.0.0,>=0.3.26 in /usr/local/lib/python3.11/dist-packages (from langchain-community) (0.3.26)\n",
            "Requirement already satisfied: SQLAlchemy<3,>=1.4 in /usr/local/lib/python3.11/dist-packages (from langchain-community) (2.0.41)\n",
            "Requirement already satisfied: requests<3,>=2 in /usr/local/lib/python3.11/dist-packages (from langchain-community) (2.32.3)\n",
            "Requirement already satisfied: PyYAML>=5.3 in /usr/local/lib/python3.11/dist-packages (from langchain-community) (6.0.2)\n",
            "Requirement already satisfied: aiohttp<4.0.0,>=3.8.3 in /usr/local/lib/python3.11/dist-packages (from langchain-community) (3.11.15)\n",
            "Requirement already satisfied: tenacity!=8.4.0,<10,>=8.1.0 in /usr/local/lib/python3.11/dist-packages (from langchain-community) (9.1.2)\n",
            "Requirement already satisfied: dataclasses-json<0.7,>=0.5.7 in /usr/local/lib/python3.11/dist-packages (from langchain-community) (0.6.7)\n",
            "Requirement already satisfied: pydantic-settings<3.0.0,>=2.4.0 in /usr/local/lib/python3.11/dist-packages (from langchain-community) (2.9.1)\n",
            "Requirement already satisfied: langsmith>=0.1.125 in /usr/local/lib/python3.11/dist-packages (from langchain-community) (0.3.45)\n",
            "Requirement already satisfied: httpx-sse<1.0.0,>=0.4.0 in /usr/local/lib/python3.11/dist-packages (from langchain-community) (0.4.0)\n",
            "Requirement already satisfied: numpy>=1.26.2 in /usr/local/lib/python3.11/dist-packages (from langchain-community) (2.0.2)\n",
            "Requirement already satisfied: aiohappyeyeballs>=2.3.0 in /usr/local/lib/python3.11/dist-packages (from aiohttp<4.0.0,>=3.8.3->langchain-community) (2.6.1)\n",
            "Requirement already satisfied: aiosignal>=1.1.2 in /usr/local/lib/python3.11/dist-packages (from aiohttp<4.0.0,>=3.8.3->langchain-community) (1.3.2)\n",
            "Requirement already satisfied: attrs>=17.3.0 in /usr/local/lib/python3.11/dist-packages (from aiohttp<4.0.0,>=3.8.3->langchain-community) (25.3.0)\n",
            "Requirement already satisfied: frozenlist>=1.1.1 in /usr/local/lib/python3.11/dist-packages (from aiohttp<4.0.0,>=3.8.3->langchain-community) (1.7.0)\n",
            "Requirement already satisfied: multidict<7.0,>=4.5 in /usr/local/lib/python3.11/dist-packages (from aiohttp<4.0.0,>=3.8.3->langchain-community) (6.4.4)\n",
            "Requirement already satisfied: propcache>=0.2.0 in /usr/local/lib/python3.11/dist-packages (from aiohttp<4.0.0,>=3.8.3->langchain-community) (0.3.2)\n",
            "Requirement already satisfied: yarl<2.0,>=1.17.0 in /usr/local/lib/python3.11/dist-packages (from aiohttp<4.0.0,>=3.8.3->langchain-community) (1.20.1)\n",
            "Requirement already satisfied: marshmallow<4.0.0,>=3.18.0 in /usr/local/lib/python3.11/dist-packages (from dataclasses-json<0.7,>=0.5.7->langchain-community) (3.26.1)\n",
            "Requirement already satisfied: typing-inspect<1,>=0.4.0 in /usr/local/lib/python3.11/dist-packages (from dataclasses-json<0.7,>=0.5.7->langchain-community) (0.9.0)\n",
            "Requirement already satisfied: langchain-text-splitters<1.0.0,>=0.3.8 in /usr/local/lib/python3.11/dist-packages (from langchain<1.0.0,>=0.3.26->langchain-community) (0.3.8)\n",
            "Requirement already satisfied: pydantic<3.0.0,>=2.7.4 in /usr/local/lib/python3.11/dist-packages (from langchain<1.0.0,>=0.3.26->langchain-community) (2.11.7)\n",
            "Requirement already satisfied: jsonpatch<2.0,>=1.33 in /usr/local/lib/python3.11/dist-packages (from langchain-core<1.0.0,>=0.3.66->langchain-community) (1.33)\n",
            "Requirement already satisfied: packaging<25,>=23.2 in /usr/local/lib/python3.11/dist-packages (from langchain-core<1.0.0,>=0.3.66->langchain-community) (24.2)\n",
            "Requirement already satisfied: typing-extensions>=4.7 in /usr/local/lib/python3.11/dist-packages (from langchain-core<1.0.0,>=0.3.66->langchain-community) (4.14.0)\n",
            "Requirement already satisfied: httpx<1,>=0.23.0 in /usr/local/lib/python3.11/dist-packages (from langsmith>=0.1.125->langchain-community) (0.28.1)\n",
            "Requirement already satisfied: orjson<4.0.0,>=3.9.14 in /usr/local/lib/python3.11/dist-packages (from langsmith>=0.1.125->langchain-community) (3.10.18)\n",
            "Requirement already satisfied: requests-toolbelt<2.0.0,>=1.0.0 in /usr/local/lib/python3.11/dist-packages (from langsmith>=0.1.125->langchain-community) (1.0.0)\n",
            "Requirement already satisfied: zstandard<0.24.0,>=0.23.0 in /usr/local/lib/python3.11/dist-packages (from langsmith>=0.1.125->langchain-community) (0.23.0)\n",
            "Requirement already satisfied: python-dotenv>=0.21.0 in /usr/local/lib/python3.11/dist-packages (from pydantic-settings<3.0.0,>=2.4.0->langchain-community) (1.1.0)\n",
            "Requirement already satisfied: typing-inspection>=0.4.0 in /usr/local/lib/python3.11/dist-packages (from pydantic-settings<3.0.0,>=2.4.0->langchain-community) (0.4.1)\n",
            "Requirement already satisfied: charset-normalizer<4,>=2 in /usr/local/lib/python3.11/dist-packages (from requests<3,>=2->langchain-community) (3.4.2)\n",
            "Requirement already satisfied: idna<4,>=2.5 in /usr/local/lib/python3.11/dist-packages (from requests<3,>=2->langchain-community) (3.10)\n",
            "Requirement already satisfied: urllib3<3,>=1.21.1 in /usr/local/lib/python3.11/dist-packages (from requests<3,>=2->langchain-community) (2.4.0)\n",
            "Requirement already satisfied: certifi>=2017.4.17 in /usr/local/lib/python3.11/dist-packages (from requests<3,>=2->langchain-community) (2025.6.15)\n",
            "Requirement already satisfied: greenlet>=1 in /usr/local/lib/python3.11/dist-packages (from SQLAlchemy<3,>=1.4->langchain-community) (3.2.3)\n",
            "Requirement already satisfied: anyio in /usr/local/lib/python3.11/dist-packages (from httpx<1,>=0.23.0->langsmith>=0.1.125->langchain-community) (4.9.0)\n",
            "Requirement already satisfied: httpcore==1.* in /usr/local/lib/python3.11/dist-packages (from httpx<1,>=0.23.0->langsmith>=0.1.125->langchain-community) (1.0.9)\n",
            "Requirement already satisfied: h11>=0.16 in /usr/local/lib/python3.11/dist-packages (from httpcore==1.*->httpx<1,>=0.23.0->langsmith>=0.1.125->langchain-community) (0.16.0)\n",
            "Requirement already satisfied: jsonpointer>=1.9 in /usr/local/lib/python3.11/dist-packages (from jsonpatch<2.0,>=1.33->langchain-core<1.0.0,>=0.3.66->langchain-community) (3.0.0)\n",
            "Requirement already satisfied: annotated-types>=0.6.0 in /usr/local/lib/python3.11/dist-packages (from pydantic<3.0.0,>=2.7.4->langchain<1.0.0,>=0.3.26->langchain-community) (0.7.0)\n",
            "Requirement already satisfied: pydantic-core==2.33.2 in /usr/local/lib/python3.11/dist-packages (from pydantic<3.0.0,>=2.7.4->langchain<1.0.0,>=0.3.26->langchain-community) (2.33.2)\n",
            "Requirement already satisfied: mypy-extensions>=0.3.0 in /usr/local/lib/python3.11/dist-packages (from typing-inspect<1,>=0.4.0->dataclasses-json<0.7,>=0.5.7->langchain-community) (1.1.0)\n",
            "Requirement already satisfied: sniffio>=1.1 in /usr/local/lib/python3.11/dist-packages (from anyio->httpx<1,>=0.23.0->langsmith>=0.1.125->langchain-community) (1.3.1)\n",
            "Requirement already satisfied: pdfplumber in /usr/local/lib/python3.11/dist-packages (0.11.7)\n",
            "Requirement already satisfied: pdfminer.six==20250506 in /usr/local/lib/python3.11/dist-packages (from pdfplumber) (20250506)\n",
            "Requirement already satisfied: Pillow>=9.1 in /usr/local/lib/python3.11/dist-packages (from pdfplumber) (11.2.1)\n",
            "Requirement already satisfied: pypdfium2>=4.18.0 in /usr/local/lib/python3.11/dist-packages (from pdfplumber) (4.30.1)\n",
            "Requirement already satisfied: charset-normalizer>=2.0.0 in /usr/local/lib/python3.11/dist-packages (from pdfminer.six==20250506->pdfplumber) (3.4.2)\n",
            "Requirement already satisfied: cryptography>=36.0.0 in /usr/local/lib/python3.11/dist-packages (from pdfminer.six==20250506->pdfplumber) (43.0.3)\n",
            "Requirement already satisfied: cffi>=1.12 in /usr/local/lib/python3.11/dist-packages (from cryptography>=36.0.0->pdfminer.six==20250506->pdfplumber) (1.17.1)\n",
            "Requirement already satisfied: pycparser in /usr/local/lib/python3.11/dist-packages (from cffi>=1.12->cryptography>=36.0.0->pdfminer.six==20250506->pdfplumber) (2.22)\n",
            "Collecting chromadb\n",
            "  Downloading chromadb-1.0.13-cp39-abi3-manylinux_2_17_x86_64.manylinux2014_x86_64.whl.metadata (7.0 kB)\n",
            "Requirement already satisfied: build>=1.0.3 in /usr/local/lib/python3.11/dist-packages (from chromadb) (1.2.2.post1)\n",
            "Requirement already satisfied: pydantic>=1.9 in /usr/local/lib/python3.11/dist-packages (from chromadb) (2.11.7)\n",
            "Collecting pybase64>=1.4.1 (from chromadb)\n",
            "  Downloading pybase64-1.4.1-cp311-cp311-manylinux_2_5_x86_64.manylinux1_x86_64.manylinux_2_17_x86_64.manylinux2014_x86_64.whl.metadata (8.4 kB)\n",
            "Requirement already satisfied: uvicorn>=0.18.3 in /usr/local/lib/python3.11/dist-packages (from uvicorn[standard]>=0.18.3->chromadb) (0.34.3)\n",
            "Requirement already satisfied: numpy>=1.22.5 in /usr/local/lib/python3.11/dist-packages (from chromadb) (2.0.2)\n",
            "Collecting posthog>=2.4.0 (from chromadb)\n",
            "  Downloading posthog-5.4.0-py3-none-any.whl.metadata (5.7 kB)\n",
            "Requirement already satisfied: typing-extensions>=4.5.0 in /usr/local/lib/python3.11/dist-packages (from chromadb) (4.14.0)\n",
            "Collecting onnxruntime>=1.14.1 (from chromadb)\n",
            "  Downloading onnxruntime-1.22.0-cp311-cp311-manylinux_2_27_x86_64.manylinux_2_28_x86_64.whl.metadata (4.5 kB)\n",
            "Collecting opentelemetry-api>=1.2.0 (from chromadb)\n",
            "  Downloading opentelemetry_api-1.34.1-py3-none-any.whl.metadata (1.5 kB)\n",
            "Collecting opentelemetry-exporter-otlp-proto-grpc>=1.2.0 (from chromadb)\n",
            "  Downloading opentelemetry_exporter_otlp_proto_grpc-1.34.1-py3-none-any.whl.metadata (2.4 kB)\n",
            "Collecting opentelemetry-sdk>=1.2.0 (from chromadb)\n",
            "  Downloading opentelemetry_sdk-1.34.1-py3-none-any.whl.metadata (1.6 kB)\n",
            "Requirement already satisfied: tokenizers>=0.13.2 in /usr/local/lib/python3.11/dist-packages (from chromadb) (0.21.1)\n",
            "Collecting pypika>=0.48.9 (from chromadb)\n",
            "  Downloading PyPika-0.48.9.tar.gz (67 kB)\n",
            "\u001b[2K     \u001b[90m━━━━━━━━━━━━━━━━━━━━━━━━━━━━━━━━━━━━━━━━\u001b[0m \u001b[32m67.3/67.3 kB\u001b[0m \u001b[31m1.9 MB/s\u001b[0m eta \u001b[36m0:00:00\u001b[0m\n",
            "\u001b[?25h  Installing build dependencies ... \u001b[?25l\u001b[?25hdone\n",
            "  Getting requirements to build wheel ... \u001b[?25l\u001b[?25hdone\n",
            "  Preparing metadata (pyproject.toml) ... \u001b[?25l\u001b[?25hdone\n",
            "Requirement already satisfied: tqdm>=4.65.0 in /usr/local/lib/python3.11/dist-packages (from chromadb) (4.67.1)\n",
            "Collecting overrides>=7.3.1 (from chromadb)\n",
            "  Downloading overrides-7.7.0-py3-none-any.whl.metadata (5.8 kB)\n",
            "Requirement already satisfied: importlib-resources in /usr/local/lib/python3.11/dist-packages (from chromadb) (6.5.2)\n",
            "Requirement already satisfied: grpcio>=1.58.0 in /usr/local/lib/python3.11/dist-packages (from chromadb) (1.73.0)\n",
            "Collecting bcrypt>=4.0.1 (from chromadb)\n",
            "  Downloading bcrypt-4.3.0-cp39-abi3-manylinux_2_34_x86_64.whl.metadata (10 kB)\n",
            "Requirement already satisfied: typer>=0.9.0 in /usr/local/lib/python3.11/dist-packages (from chromadb) (0.16.0)\n",
            "Collecting kubernetes>=28.1.0 (from chromadb)\n",
            "  Downloading kubernetes-33.1.0-py2.py3-none-any.whl.metadata (1.7 kB)\n",
            "Requirement already satisfied: tenacity>=8.2.3 in /usr/local/lib/python3.11/dist-packages (from chromadb) (9.1.2)\n",
            "Requirement already satisfied: pyyaml>=6.0.0 in /usr/local/lib/python3.11/dist-packages (from chromadb) (6.0.2)\n",
            "Collecting mmh3>=4.0.1 (from chromadb)\n",
            "  Downloading mmh3-5.1.0-cp311-cp311-manylinux_2_5_x86_64.manylinux1_x86_64.manylinux_2_17_x86_64.manylinux2014_x86_64.whl.metadata (16 kB)\n",
            "Requirement already satisfied: orjson>=3.9.12 in /usr/local/lib/python3.11/dist-packages (from chromadb) (3.10.18)\n",
            "Requirement already satisfied: httpx>=0.27.0 in /usr/local/lib/python3.11/dist-packages (from chromadb) (0.28.1)\n",
            "Requirement already satisfied: rich>=10.11.0 in /usr/local/lib/python3.11/dist-packages (from chromadb) (13.9.4)\n",
            "Requirement already satisfied: jsonschema>=4.19.0 in /usr/local/lib/python3.11/dist-packages (from chromadb) (4.24.0)\n",
            "Requirement already satisfied: packaging>=19.1 in /usr/local/lib/python3.11/dist-packages (from build>=1.0.3->chromadb) (24.2)\n",
            "Requirement already satisfied: pyproject_hooks in /usr/local/lib/python3.11/dist-packages (from build>=1.0.3->chromadb) (1.2.0)\n",
            "Requirement already satisfied: anyio in /usr/local/lib/python3.11/dist-packages (from httpx>=0.27.0->chromadb) (4.9.0)\n",
            "Requirement already satisfied: certifi in /usr/local/lib/python3.11/dist-packages (from httpx>=0.27.0->chromadb) (2025.6.15)\n",
            "Requirement already satisfied: httpcore==1.* in /usr/local/lib/python3.11/dist-packages (from httpx>=0.27.0->chromadb) (1.0.9)\n",
            "Requirement already satisfied: idna in /usr/local/lib/python3.11/dist-packages (from httpx>=0.27.0->chromadb) (3.10)\n",
            "Requirement already satisfied: h11>=0.16 in /usr/local/lib/python3.11/dist-packages (from httpcore==1.*->httpx>=0.27.0->chromadb) (0.16.0)\n",
            "Requirement already satisfied: attrs>=22.2.0 in /usr/local/lib/python3.11/dist-packages (from jsonschema>=4.19.0->chromadb) (25.3.0)\n",
            "Requirement already satisfied: jsonschema-specifications>=2023.03.6 in /usr/local/lib/python3.11/dist-packages (from jsonschema>=4.19.0->chromadb) (2025.4.1)\n",
            "Requirement already satisfied: referencing>=0.28.4 in /usr/local/lib/python3.11/dist-packages (from jsonschema>=4.19.0->chromadb) (0.36.2)\n",
            "Requirement already satisfied: rpds-py>=0.7.1 in /usr/local/lib/python3.11/dist-packages (from jsonschema>=4.19.0->chromadb) (0.25.1)\n",
            "Requirement already satisfied: six>=1.9.0 in /usr/local/lib/python3.11/dist-packages (from kubernetes>=28.1.0->chromadb) (1.17.0)\n",
            "Requirement already satisfied: python-dateutil>=2.5.3 in /usr/local/lib/python3.11/dist-packages (from kubernetes>=28.1.0->chromadb) (2.9.0.post0)\n",
            "Requirement already satisfied: google-auth>=1.0.1 in /usr/local/lib/python3.11/dist-packages (from kubernetes>=28.1.0->chromadb) (2.38.0)\n",
            "Requirement already satisfied: websocket-client!=0.40.0,!=0.41.*,!=0.42.*,>=0.32.0 in /usr/local/lib/python3.11/dist-packages (from kubernetes>=28.1.0->chromadb) (1.8.0)\n",
            "Requirement already satisfied: requests in /usr/local/lib/python3.11/dist-packages (from kubernetes>=28.1.0->chromadb) (2.32.3)\n",
            "Requirement already satisfied: requests-oauthlib in /usr/local/lib/python3.11/dist-packages (from kubernetes>=28.1.0->chromadb) (2.0.0)\n",
            "Requirement already satisfied: oauthlib>=3.2.2 in /usr/local/lib/python3.11/dist-packages (from kubernetes>=28.1.0->chromadb) (3.2.2)\n",
            "Requirement already satisfied: urllib3>=1.24.2 in /usr/local/lib/python3.11/dist-packages (from kubernetes>=28.1.0->chromadb) (2.4.0)\n",
            "Collecting durationpy>=0.7 (from kubernetes>=28.1.0->chromadb)\n",
            "  Downloading durationpy-0.10-py3-none-any.whl.metadata (340 bytes)\n",
            "Collecting coloredlogs (from onnxruntime>=1.14.1->chromadb)\n",
            "  Downloading coloredlogs-15.0.1-py2.py3-none-any.whl.metadata (12 kB)\n",
            "Requirement already satisfied: flatbuffers in /usr/local/lib/python3.11/dist-packages (from onnxruntime>=1.14.1->chromadb) (25.2.10)\n",
            "Requirement already satisfied: protobuf in /usr/local/lib/python3.11/dist-packages (from onnxruntime>=1.14.1->chromadb) (5.29.5)\n",
            "Requirement already satisfied: sympy in /usr/local/lib/python3.11/dist-packages (from onnxruntime>=1.14.1->chromadb) (1.13.1)\n",
            "Requirement already satisfied: importlib-metadata<8.8.0,>=6.0 in /usr/local/lib/python3.11/dist-packages (from opentelemetry-api>=1.2.0->chromadb) (8.7.0)\n",
            "Requirement already satisfied: googleapis-common-protos~=1.52 in /usr/local/lib/python3.11/dist-packages (from opentelemetry-exporter-otlp-proto-grpc>=1.2.0->chromadb) (1.70.0)\n",
            "Collecting opentelemetry-exporter-otlp-proto-common==1.34.1 (from opentelemetry-exporter-otlp-proto-grpc>=1.2.0->chromadb)\n",
            "  Downloading opentelemetry_exporter_otlp_proto_common-1.34.1-py3-none-any.whl.metadata (1.9 kB)\n",
            "Collecting opentelemetry-proto==1.34.1 (from opentelemetry-exporter-otlp-proto-grpc>=1.2.0->chromadb)\n",
            "  Downloading opentelemetry_proto-1.34.1-py3-none-any.whl.metadata (2.4 kB)\n",
            "Collecting opentelemetry-semantic-conventions==0.55b1 (from opentelemetry-sdk>=1.2.0->chromadb)\n",
            "  Downloading opentelemetry_semantic_conventions-0.55b1-py3-none-any.whl.metadata (2.5 kB)\n",
            "Collecting backoff>=1.10.0 (from posthog>=2.4.0->chromadb)\n",
            "  Downloading backoff-2.2.1-py3-none-any.whl.metadata (14 kB)\n",
            "Requirement already satisfied: distro>=1.5.0 in /usr/local/lib/python3.11/dist-packages (from posthog>=2.4.0->chromadb) (1.9.0)\n",
            "Requirement already satisfied: annotated-types>=0.6.0 in /usr/local/lib/python3.11/dist-packages (from pydantic>=1.9->chromadb) (0.7.0)\n",
            "Requirement already satisfied: pydantic-core==2.33.2 in /usr/local/lib/python3.11/dist-packages (from pydantic>=1.9->chromadb) (2.33.2)\n",
            "Requirement already satisfied: typing-inspection>=0.4.0 in /usr/local/lib/python3.11/dist-packages (from pydantic>=1.9->chromadb) (0.4.1)\n",
            "Requirement already satisfied: markdown-it-py>=2.2.0 in /usr/local/lib/python3.11/dist-packages (from rich>=10.11.0->chromadb) (3.0.0)\n",
            "Requirement already satisfied: pygments<3.0.0,>=2.13.0 in /usr/local/lib/python3.11/dist-packages (from rich>=10.11.0->chromadb) (2.19.1)\n",
            "Requirement already satisfied: huggingface-hub<1.0,>=0.16.4 in /usr/local/lib/python3.11/dist-packages (from tokenizers>=0.13.2->chromadb) (0.33.0)\n",
            "Requirement already satisfied: click>=8.0.0 in /usr/local/lib/python3.11/dist-packages (from typer>=0.9.0->chromadb) (8.2.1)\n",
            "Requirement already satisfied: shellingham>=1.3.0 in /usr/local/lib/python3.11/dist-packages (from typer>=0.9.0->chromadb) (1.5.4)\n",
            "Collecting httptools>=0.6.3 (from uvicorn[standard]>=0.18.3->chromadb)\n",
            "  Downloading httptools-0.6.4-cp311-cp311-manylinux_2_5_x86_64.manylinux1_x86_64.manylinux_2_17_x86_64.manylinux2014_x86_64.whl.metadata (3.6 kB)\n",
            "Requirement already satisfied: python-dotenv>=0.13 in /usr/local/lib/python3.11/dist-packages (from uvicorn[standard]>=0.18.3->chromadb) (1.1.0)\n",
            "Collecting uvloop>=0.15.1 (from uvicorn[standard]>=0.18.3->chromadb)\n",
            "  Downloading uvloop-0.21.0-cp311-cp311-manylinux_2_17_x86_64.manylinux2014_x86_64.whl.metadata (4.9 kB)\n",
            "Collecting watchfiles>=0.13 (from uvicorn[standard]>=0.18.3->chromadb)\n",
            "  Downloading watchfiles-1.1.0-cp311-cp311-manylinux_2_17_x86_64.manylinux2014_x86_64.whl.metadata (4.9 kB)\n",
            "Requirement already satisfied: websockets>=10.4 in /usr/local/lib/python3.11/dist-packages (from uvicorn[standard]>=0.18.3->chromadb) (15.0.1)\n",
            "Requirement already satisfied: cachetools<6.0,>=2.0.0 in /usr/local/lib/python3.11/dist-packages (from google-auth>=1.0.1->kubernetes>=28.1.0->chromadb) (5.5.2)\n",
            "Requirement already satisfied: pyasn1-modules>=0.2.1 in /usr/local/lib/python3.11/dist-packages (from google-auth>=1.0.1->kubernetes>=28.1.0->chromadb) (0.4.2)\n",
            "Requirement already satisfied: rsa<5,>=3.1.4 in /usr/local/lib/python3.11/dist-packages (from google-auth>=1.0.1->kubernetes>=28.1.0->chromadb) (4.9.1)\n",
            "Requirement already satisfied: filelock in /usr/local/lib/python3.11/dist-packages (from huggingface-hub<1.0,>=0.16.4->tokenizers>=0.13.2->chromadb) (3.18.0)\n",
            "Requirement already satisfied: fsspec>=2023.5.0 in /usr/local/lib/python3.11/dist-packages (from huggingface-hub<1.0,>=0.16.4->tokenizers>=0.13.2->chromadb) (2025.3.2)\n",
            "Requirement already satisfied: hf-xet<2.0.0,>=1.1.2 in /usr/local/lib/python3.11/dist-packages (from huggingface-hub<1.0,>=0.16.4->tokenizers>=0.13.2->chromadb) (1.1.3)\n",
            "Requirement already satisfied: zipp>=3.20 in /usr/local/lib/python3.11/dist-packages (from importlib-metadata<8.8.0,>=6.0->opentelemetry-api>=1.2.0->chromadb) (3.23.0)\n",
            "Requirement already satisfied: mdurl~=0.1 in /usr/local/lib/python3.11/dist-packages (from markdown-it-py>=2.2.0->rich>=10.11.0->chromadb) (0.1.2)\n",
            "Requirement already satisfied: charset-normalizer<4,>=2 in /usr/local/lib/python3.11/dist-packages (from requests->kubernetes>=28.1.0->chromadb) (3.4.2)\n",
            "Requirement already satisfied: sniffio>=1.1 in /usr/local/lib/python3.11/dist-packages (from anyio->httpx>=0.27.0->chromadb) (1.3.1)\n",
            "Collecting humanfriendly>=9.1 (from coloredlogs->onnxruntime>=1.14.1->chromadb)\n",
            "  Downloading humanfriendly-10.0-py2.py3-none-any.whl.metadata (9.2 kB)\n",
            "Requirement already satisfied: mpmath<1.4,>=1.1.0 in /usr/local/lib/python3.11/dist-packages (from sympy->onnxruntime>=1.14.1->chromadb) (1.3.0)\n",
            "Requirement already satisfied: pyasn1<0.7.0,>=0.6.1 in /usr/local/lib/python3.11/dist-packages (from pyasn1-modules>=0.2.1->google-auth>=1.0.1->kubernetes>=28.1.0->chromadb) (0.6.1)\n",
            "Downloading chromadb-1.0.13-cp39-abi3-manylinux_2_17_x86_64.manylinux2014_x86_64.whl (19.3 MB)\n",
            "\u001b[2K   \u001b[90m━━━━━━━━━━━━━━━━━━━━━━━━━━━━━━━━━━━━━━━━\u001b[0m \u001b[32m19.3/19.3 MB\u001b[0m \u001b[31m84.7 MB/s\u001b[0m eta \u001b[36m0:00:00\u001b[0m\n",
            "\u001b[?25hDownloading bcrypt-4.3.0-cp39-abi3-manylinux_2_34_x86_64.whl (284 kB)\n",
            "\u001b[2K   \u001b[90m━━━━━━━━━━━━━━━━━━━━━━━━━━━━━━━━━━━━━━━━\u001b[0m \u001b[32m284.2/284.2 kB\u001b[0m \u001b[31m18.4 MB/s\u001b[0m eta \u001b[36m0:00:00\u001b[0m\n",
            "\u001b[?25hDownloading kubernetes-33.1.0-py2.py3-none-any.whl (1.9 MB)\n",
            "\u001b[2K   \u001b[90m━━━━━━━━━━━━━━━━━━━━━━━━━━━━━━━━━━━━━━━━\u001b[0m \u001b[32m1.9/1.9 MB\u001b[0m \u001b[31m53.7 MB/s\u001b[0m eta \u001b[36m0:00:00\u001b[0m\n",
            "\u001b[?25hDownloading mmh3-5.1.0-cp311-cp311-manylinux_2_5_x86_64.manylinux1_x86_64.manylinux_2_17_x86_64.manylinux2014_x86_64.whl (101 kB)\n",
            "\u001b[2K   \u001b[90m━━━━━━━━━━━━━━━━━━━━━━━━━━━━━━━━━━━━━━━━\u001b[0m \u001b[32m101.6/101.6 kB\u001b[0m \u001b[31m6.3 MB/s\u001b[0m eta \u001b[36m0:00:00\u001b[0m\n",
            "\u001b[?25hDownloading onnxruntime-1.22.0-cp311-cp311-manylinux_2_27_x86_64.manylinux_2_28_x86_64.whl (16.4 MB)\n",
            "\u001b[2K   \u001b[90m━━━━━━━━━━━━━━━━━━━━━━━━━━━━━━━━━━━━━━━━\u001b[0m \u001b[32m16.4/16.4 MB\u001b[0m \u001b[31m78.4 MB/s\u001b[0m eta \u001b[36m0:00:00\u001b[0m\n",
            "\u001b[?25hDownloading opentelemetry_api-1.34.1-py3-none-any.whl (65 kB)\n",
            "\u001b[2K   \u001b[90m━━━━━━━━━━━━━━━━━━━━━━━━━━━━━━━━━━━━━━━━\u001b[0m \u001b[32m65.8/65.8 kB\u001b[0m \u001b[31m4.0 MB/s\u001b[0m eta \u001b[36m0:00:00\u001b[0m\n",
            "\u001b[?25hDownloading opentelemetry_exporter_otlp_proto_grpc-1.34.1-py3-none-any.whl (18 kB)\n",
            "Downloading opentelemetry_exporter_otlp_proto_common-1.34.1-py3-none-any.whl (18 kB)\n",
            "Downloading opentelemetry_proto-1.34.1-py3-none-any.whl (55 kB)\n",
            "\u001b[2K   \u001b[90m━━━━━━━━━━━━━━━━━━━━━━━━━━━━━━━━━━━━━━━━\u001b[0m \u001b[32m55.7/55.7 kB\u001b[0m \u001b[31m3.5 MB/s\u001b[0m eta \u001b[36m0:00:00\u001b[0m\n",
            "\u001b[?25hDownloading opentelemetry_sdk-1.34.1-py3-none-any.whl (118 kB)\n",
            "\u001b[2K   \u001b[90m━━━━━━━━━━━━━━━━━━━━━━━━━━━━━━━━━━━━━━━━\u001b[0m \u001b[32m118.5/118.5 kB\u001b[0m \u001b[31m8.1 MB/s\u001b[0m eta \u001b[36m0:00:00\u001b[0m\n",
            "\u001b[?25hDownloading opentelemetry_semantic_conventions-0.55b1-py3-none-any.whl (196 kB)\n",
            "\u001b[2K   \u001b[90m━━━━━━━━━━━━━━━━━━━━━━━━━━━━━━━━━━━━━━━━\u001b[0m \u001b[32m196.2/196.2 kB\u001b[0m \u001b[31m12.7 MB/s\u001b[0m eta \u001b[36m0:00:00\u001b[0m\n",
            "\u001b[?25hDownloading overrides-7.7.0-py3-none-any.whl (17 kB)\n",
            "Downloading posthog-5.4.0-py3-none-any.whl (105 kB)\n",
            "\u001b[2K   \u001b[90m━━━━━━━━━━━━━━━━━━━━━━━━━━━━━━━━━━━━━━━━\u001b[0m \u001b[32m105.4/105.4 kB\u001b[0m \u001b[31m6.7 MB/s\u001b[0m eta \u001b[36m0:00:00\u001b[0m\n",
            "\u001b[?25hDownloading pybase64-1.4.1-cp311-cp311-manylinux_2_5_x86_64.manylinux1_x86_64.manylinux_2_17_x86_64.manylinux2014_x86_64.whl (71 kB)\n",
            "\u001b[2K   \u001b[90m━━━━━━━━━━━━━━━━━━━━━━━━━━━━━━━━━━━━━━━━\u001b[0m \u001b[32m71.2/71.2 kB\u001b[0m \u001b[31m4.5 MB/s\u001b[0m eta \u001b[36m0:00:00\u001b[0m\n",
            "\u001b[?25hDownloading backoff-2.2.1-py3-none-any.whl (15 kB)\n",
            "Downloading durationpy-0.10-py3-none-any.whl (3.9 kB)\n",
            "Downloading httptools-0.6.4-cp311-cp311-manylinux_2_5_x86_64.manylinux1_x86_64.manylinux_2_17_x86_64.manylinux2014_x86_64.whl (459 kB)\n",
            "\u001b[2K   \u001b[90m━━━━━━━━━━━━━━━━━━━━━━━━━━━━━━━━━━━━━━━━\u001b[0m \u001b[32m459.8/459.8 kB\u001b[0m \u001b[31m7.7 MB/s\u001b[0m eta \u001b[36m0:00:00\u001b[0m\n",
            "\u001b[?25hDownloading uvloop-0.21.0-cp311-cp311-manylinux_2_17_x86_64.manylinux2014_x86_64.whl (4.0 MB)\n",
            "\u001b[2K   \u001b[90m━━━━━━━━━━━━━━━━━━━━━━━━━━━━━━━━━━━━━━━━\u001b[0m \u001b[32m4.0/4.0 MB\u001b[0m \u001b[31m75.1 MB/s\u001b[0m eta \u001b[36m0:00:00\u001b[0m\n",
            "\u001b[?25hDownloading watchfiles-1.1.0-cp311-cp311-manylinux_2_17_x86_64.manylinux2014_x86_64.whl (453 kB)\n",
            "\u001b[2K   \u001b[90m━━━━━━━━━━━━━━━━━━━━━━━━━━━━━━━━━━━━━━━━\u001b[0m \u001b[32m453.1/453.1 kB\u001b[0m \u001b[31m26.7 MB/s\u001b[0m eta \u001b[36m0:00:00\u001b[0m\n",
            "\u001b[?25hDownloading coloredlogs-15.0.1-py2.py3-none-any.whl (46 kB)\n",
            "\u001b[2K   \u001b[90m━━━━━━━━━━━━━━━━━━━━━━━━━━━━━━━━━━━━━━━━\u001b[0m \u001b[32m46.0/46.0 kB\u001b[0m \u001b[31m3.0 MB/s\u001b[0m eta \u001b[36m0:00:00\u001b[0m\n",
            "\u001b[?25hDownloading humanfriendly-10.0-py2.py3-none-any.whl (86 kB)\n",
            "\u001b[2K   \u001b[90m━━━━━━━━━━━━━━━━━━━━━━━━━━━━━━━━━━━━━━━━\u001b[0m \u001b[32m86.8/86.8 kB\u001b[0m \u001b[31m5.9 MB/s\u001b[0m eta \u001b[36m0:00:00\u001b[0m\n",
            "\u001b[?25hBuilding wheels for collected packages: pypika\n",
            "  Building wheel for pypika (pyproject.toml) ... \u001b[?25l\u001b[?25hdone\n",
            "  Created wheel for pypika: filename=pypika-0.48.9-py2.py3-none-any.whl size=53803 sha256=949a34b74be42cce10830dec661eb515e0aec387da893f797f32324cd61e3339\n",
            "  Stored in directory: /root/.cache/pip/wheels/a3/01/bd/4c40ceb9d5354160cb186dcc153360f4ab7eb23e2b24daf96d\n",
            "Successfully built pypika\n",
            "Installing collected packages: pypika, durationpy, uvloop, pybase64, overrides, opentelemetry-proto, mmh3, humanfriendly, httptools, bcrypt, backoff, watchfiles, posthog, opentelemetry-exporter-otlp-proto-common, opentelemetry-api, coloredlogs, opentelemetry-semantic-conventions, onnxruntime, kubernetes, opentelemetry-sdk, opentelemetry-exporter-otlp-proto-grpc, chromadb\n",
            "Successfully installed backoff-2.2.1 bcrypt-4.3.0 chromadb-1.0.13 coloredlogs-15.0.1 durationpy-0.10 httptools-0.6.4 humanfriendly-10.0 kubernetes-33.1.0 mmh3-5.1.0 onnxruntime-1.22.0 opentelemetry-api-1.34.1 opentelemetry-exporter-otlp-proto-common-1.34.1 opentelemetry-exporter-otlp-proto-grpc-1.34.1 opentelemetry-proto-1.34.1 opentelemetry-sdk-1.34.1 opentelemetry-semantic-conventions-0.55b1 overrides-7.7.0 posthog-5.4.0 pybase64-1.4.1 pypika-0.48.9 uvloop-0.21.0 watchfiles-1.1.0\n"
          ]
        }
      ]
    },
    {
      "cell_type": "markdown",
      "source": [
        "![Screenshot 2024-07-16 004821.png](data:image/png;base64,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)"
      ],
      "metadata": {
        "id": "zeAZeAxR1Sau"
      }
    },
    {
      "cell_type": "markdown",
      "source": [
        "## **Downgrade the versions for preventing the invoke error**"
      ],
      "metadata": {
        "id": "7fJoGfYLVsSQ"
      }
    },
    {
      "cell_type": "code",
      "source": [
        "!pip install langchain-google-genai==2.1.3\n",
        "!pip install google-ai-generativelanguage==0.6.17"
      ],
      "metadata": {
        "colab": {
          "base_uri": "https://localhost:8080/",
          "height": 1000
        },
        "collapsed": true,
        "id": "35gxl2IwTX5q",
        "outputId": "5bccecc7-3a3b-45e5-9a2f-f00c83768b00"
      },
      "execution_count": null,
      "outputs": [
        {
          "output_type": "stream",
          "name": "stdout",
          "text": [
            "Collecting langchain-google-genai==2.1.3\n",
            "  Downloading langchain_google_genai-2.1.3-py3-none-any.whl.metadata (4.7 kB)\n",
            "Collecting filetype<2.0.0,>=1.2.0 (from langchain-google-genai==2.1.3)\n",
            "  Downloading filetype-1.2.0-py2.py3-none-any.whl.metadata (6.5 kB)\n",
            "Collecting google-ai-generativelanguage<0.7.0,>=0.6.16 (from langchain-google-genai==2.1.3)\n",
            "  Downloading google_ai_generativelanguage-0.6.18-py3-none-any.whl.metadata (9.8 kB)\n",
            "Requirement already satisfied: langchain-core<0.4.0,>=0.3.52 in /usr/local/lib/python3.11/dist-packages (from langchain-google-genai==2.1.3) (0.3.65)\n",
            "Requirement already satisfied: pydantic<3,>=2 in /usr/local/lib/python3.11/dist-packages (from langchain-google-genai==2.1.3) (2.11.7)\n",
            "Requirement already satisfied: google-api-core!=2.0.*,!=2.1.*,!=2.10.*,!=2.2.*,!=2.3.*,!=2.4.*,!=2.5.*,!=2.6.*,!=2.7.*,!=2.8.*,!=2.9.*,<3.0.0,>=1.34.1 in /usr/local/lib/python3.11/dist-packages (from google-api-core[grpc]!=2.0.*,!=2.1.*,!=2.10.*,!=2.2.*,!=2.3.*,!=2.4.*,!=2.5.*,!=2.6.*,!=2.7.*,!=2.8.*,!=2.9.*,<3.0.0,>=1.34.1->google-ai-generativelanguage<0.7.0,>=0.6.16->langchain-google-genai==2.1.3) (2.25.1)\n",
            "Requirement already satisfied: google-auth!=2.24.0,!=2.25.0,<3.0.0,>=2.14.1 in /usr/local/lib/python3.11/dist-packages (from google-ai-generativelanguage<0.7.0,>=0.6.16->langchain-google-genai==2.1.3) (2.38.0)\n",
            "Requirement already satisfied: proto-plus<2.0.0,>=1.22.3 in /usr/local/lib/python3.11/dist-packages (from google-ai-generativelanguage<0.7.0,>=0.6.16->langchain-google-genai==2.1.3) (1.26.1)\n",
            "Requirement already satisfied: protobuf!=4.21.0,!=4.21.1,!=4.21.2,!=4.21.3,!=4.21.4,!=4.21.5,<7.0.0,>=3.20.2 in /usr/local/lib/python3.11/dist-packages (from google-ai-generativelanguage<0.7.0,>=0.6.16->langchain-google-genai==2.1.3) (5.29.5)\n",
            "Requirement already satisfied: langsmith<0.4,>=0.3.45 in /usr/local/lib/python3.11/dist-packages (from langchain-core<0.4.0,>=0.3.52->langchain-google-genai==2.1.3) (0.3.45)\n",
            "Requirement already satisfied: tenacity!=8.4.0,<10.0.0,>=8.1.0 in /usr/local/lib/python3.11/dist-packages (from langchain-core<0.4.0,>=0.3.52->langchain-google-genai==2.1.3) (9.1.2)\n",
            "Requirement already satisfied: jsonpatch<2.0,>=1.33 in /usr/local/lib/python3.11/dist-packages (from langchain-core<0.4.0,>=0.3.52->langchain-google-genai==2.1.3) (1.33)\n",
            "Requirement already satisfied: PyYAML>=5.3 in /usr/local/lib/python3.11/dist-packages (from langchain-core<0.4.0,>=0.3.52->langchain-google-genai==2.1.3) (6.0.2)\n",
            "Requirement already satisfied: packaging<25,>=23.2 in /usr/local/lib/python3.11/dist-packages (from langchain-core<0.4.0,>=0.3.52->langchain-google-genai==2.1.3) (24.2)\n",
            "Requirement already satisfied: typing-extensions>=4.7 in /usr/local/lib/python3.11/dist-packages (from langchain-core<0.4.0,>=0.3.52->langchain-google-genai==2.1.3) (4.14.0)\n",
            "Requirement already satisfied: annotated-types>=0.6.0 in /usr/local/lib/python3.11/dist-packages (from pydantic<3,>=2->langchain-google-genai==2.1.3) (0.7.0)\n",
            "Requirement already satisfied: pydantic-core==2.33.2 in /usr/local/lib/python3.11/dist-packages (from pydantic<3,>=2->langchain-google-genai==2.1.3) (2.33.2)\n",
            "Requirement already satisfied: typing-inspection>=0.4.0 in /usr/local/lib/python3.11/dist-packages (from pydantic<3,>=2->langchain-google-genai==2.1.3) (0.4.1)\n",
            "Requirement already satisfied: googleapis-common-protos<2.0.0,>=1.56.2 in /usr/local/lib/python3.11/dist-packages (from google-api-core!=2.0.*,!=2.1.*,!=2.10.*,!=2.2.*,!=2.3.*,!=2.4.*,!=2.5.*,!=2.6.*,!=2.7.*,!=2.8.*,!=2.9.*,<3.0.0,>=1.34.1->google-api-core[grpc]!=2.0.*,!=2.1.*,!=2.10.*,!=2.2.*,!=2.3.*,!=2.4.*,!=2.5.*,!=2.6.*,!=2.7.*,!=2.8.*,!=2.9.*,<3.0.0,>=1.34.1->google-ai-generativelanguage<0.7.0,>=0.6.16->langchain-google-genai==2.1.3) (1.70.0)\n",
            "Requirement already satisfied: requests<3.0.0,>=2.18.0 in /usr/local/lib/python3.11/dist-packages (from google-api-core!=2.0.*,!=2.1.*,!=2.10.*,!=2.2.*,!=2.3.*,!=2.4.*,!=2.5.*,!=2.6.*,!=2.7.*,!=2.8.*,!=2.9.*,<3.0.0,>=1.34.1->google-api-core[grpc]!=2.0.*,!=2.1.*,!=2.10.*,!=2.2.*,!=2.3.*,!=2.4.*,!=2.5.*,!=2.6.*,!=2.7.*,!=2.8.*,!=2.9.*,<3.0.0,>=1.34.1->google-ai-generativelanguage<0.7.0,>=0.6.16->langchain-google-genai==2.1.3) (2.32.3)\n",
            "Requirement already satisfied: grpcio<2.0.0,>=1.33.2 in /usr/local/lib/python3.11/dist-packages (from google-api-core[grpc]!=2.0.*,!=2.1.*,!=2.10.*,!=2.2.*,!=2.3.*,!=2.4.*,!=2.5.*,!=2.6.*,!=2.7.*,!=2.8.*,!=2.9.*,<3.0.0,>=1.34.1->google-ai-generativelanguage<0.7.0,>=0.6.16->langchain-google-genai==2.1.3) (1.73.0)\n",
            "Requirement already satisfied: grpcio-status<2.0.0,>=1.33.2 in /usr/local/lib/python3.11/dist-packages (from google-api-core[grpc]!=2.0.*,!=2.1.*,!=2.10.*,!=2.2.*,!=2.3.*,!=2.4.*,!=2.5.*,!=2.6.*,!=2.7.*,!=2.8.*,!=2.9.*,<3.0.0,>=1.34.1->google-ai-generativelanguage<0.7.0,>=0.6.16->langchain-google-genai==2.1.3) (1.71.0)\n",
            "Requirement already satisfied: cachetools<6.0,>=2.0.0 in /usr/local/lib/python3.11/dist-packages (from google-auth!=2.24.0,!=2.25.0,<3.0.0,>=2.14.1->google-ai-generativelanguage<0.7.0,>=0.6.16->langchain-google-genai==2.1.3) (5.5.2)\n",
            "Requirement already satisfied: pyasn1-modules>=0.2.1 in /usr/local/lib/python3.11/dist-packages (from google-auth!=2.24.0,!=2.25.0,<3.0.0,>=2.14.1->google-ai-generativelanguage<0.7.0,>=0.6.16->langchain-google-genai==2.1.3) (0.4.2)\n",
            "Requirement already satisfied: rsa<5,>=3.1.4 in /usr/local/lib/python3.11/dist-packages (from google-auth!=2.24.0,!=2.25.0,<3.0.0,>=2.14.1->google-ai-generativelanguage<0.7.0,>=0.6.16->langchain-google-genai==2.1.3) (4.9.1)\n",
            "Requirement already satisfied: jsonpointer>=1.9 in /usr/local/lib/python3.11/dist-packages (from jsonpatch<2.0,>=1.33->langchain-core<0.4.0,>=0.3.52->langchain-google-genai==2.1.3) (3.0.0)\n",
            "Requirement already satisfied: httpx<1,>=0.23.0 in /usr/local/lib/python3.11/dist-packages (from langsmith<0.4,>=0.3.45->langchain-core<0.4.0,>=0.3.52->langchain-google-genai==2.1.3) (0.28.1)\n",
            "Requirement already satisfied: orjson<4.0.0,>=3.9.14 in /usr/local/lib/python3.11/dist-packages (from langsmith<0.4,>=0.3.45->langchain-core<0.4.0,>=0.3.52->langchain-google-genai==2.1.3) (3.10.18)\n",
            "Requirement already satisfied: requests-toolbelt<2.0.0,>=1.0.0 in /usr/local/lib/python3.11/dist-packages (from langsmith<0.4,>=0.3.45->langchain-core<0.4.0,>=0.3.52->langchain-google-genai==2.1.3) (1.0.0)\n",
            "Requirement already satisfied: zstandard<0.24.0,>=0.23.0 in /usr/local/lib/python3.11/dist-packages (from langsmith<0.4,>=0.3.45->langchain-core<0.4.0,>=0.3.52->langchain-google-genai==2.1.3) (0.23.0)\n",
            "Requirement already satisfied: anyio in /usr/local/lib/python3.11/dist-packages (from httpx<1,>=0.23.0->langsmith<0.4,>=0.3.45->langchain-core<0.4.0,>=0.3.52->langchain-google-genai==2.1.3) (4.9.0)\n",
            "Requirement already satisfied: certifi in /usr/local/lib/python3.11/dist-packages (from httpx<1,>=0.23.0->langsmith<0.4,>=0.3.45->langchain-core<0.4.0,>=0.3.52->langchain-google-genai==2.1.3) (2025.6.15)\n",
            "Requirement already satisfied: httpcore==1.* in /usr/local/lib/python3.11/dist-packages (from httpx<1,>=0.23.0->langsmith<0.4,>=0.3.45->langchain-core<0.4.0,>=0.3.52->langchain-google-genai==2.1.3) (1.0.9)\n",
            "Requirement already satisfied: idna in /usr/local/lib/python3.11/dist-packages (from httpx<1,>=0.23.0->langsmith<0.4,>=0.3.45->langchain-core<0.4.0,>=0.3.52->langchain-google-genai==2.1.3) (3.10)\n",
            "Requirement already satisfied: h11>=0.16 in /usr/local/lib/python3.11/dist-packages (from httpcore==1.*->httpx<1,>=0.23.0->langsmith<0.4,>=0.3.45->langchain-core<0.4.0,>=0.3.52->langchain-google-genai==2.1.3) (0.16.0)\n",
            "Requirement already satisfied: pyasn1<0.7.0,>=0.6.1 in /usr/local/lib/python3.11/dist-packages (from pyasn1-modules>=0.2.1->google-auth!=2.24.0,!=2.25.0,<3.0.0,>=2.14.1->google-ai-generativelanguage<0.7.0,>=0.6.16->langchain-google-genai==2.1.3) (0.6.1)\n",
            "Requirement already satisfied: charset-normalizer<4,>=2 in /usr/local/lib/python3.11/dist-packages (from requests<3.0.0,>=2.18.0->google-api-core!=2.0.*,!=2.1.*,!=2.10.*,!=2.2.*,!=2.3.*,!=2.4.*,!=2.5.*,!=2.6.*,!=2.7.*,!=2.8.*,!=2.9.*,<3.0.0,>=1.34.1->google-api-core[grpc]!=2.0.*,!=2.1.*,!=2.10.*,!=2.2.*,!=2.3.*,!=2.4.*,!=2.5.*,!=2.6.*,!=2.7.*,!=2.8.*,!=2.9.*,<3.0.0,>=1.34.1->google-ai-generativelanguage<0.7.0,>=0.6.16->langchain-google-genai==2.1.3) (3.4.2)\n",
            "Requirement already satisfied: urllib3<3,>=1.21.1 in /usr/local/lib/python3.11/dist-packages (from requests<3.0.0,>=2.18.0->google-api-core!=2.0.*,!=2.1.*,!=2.10.*,!=2.2.*,!=2.3.*,!=2.4.*,!=2.5.*,!=2.6.*,!=2.7.*,!=2.8.*,!=2.9.*,<3.0.0,>=1.34.1->google-api-core[grpc]!=2.0.*,!=2.1.*,!=2.10.*,!=2.2.*,!=2.3.*,!=2.4.*,!=2.5.*,!=2.6.*,!=2.7.*,!=2.8.*,!=2.9.*,<3.0.0,>=1.34.1->google-ai-generativelanguage<0.7.0,>=0.6.16->langchain-google-genai==2.1.3) (2.4.0)\n",
            "Requirement already satisfied: sniffio>=1.1 in /usr/local/lib/python3.11/dist-packages (from anyio->httpx<1,>=0.23.0->langsmith<0.4,>=0.3.45->langchain-core<0.4.0,>=0.3.52->langchain-google-genai==2.1.3) (1.3.1)\n",
            "Downloading langchain_google_genai-2.1.3-py3-none-any.whl (43 kB)\n",
            "\u001b[2K   \u001b[90m━━━━━━━━━━━━━━━━━━━━━━━━━━━━━━━━━━━━━━━━\u001b[0m \u001b[32m43.7/43.7 kB\u001b[0m \u001b[31m1.5 MB/s\u001b[0m eta \u001b[36m0:00:00\u001b[0m\n",
            "\u001b[?25hDownloading filetype-1.2.0-py2.py3-none-any.whl (19 kB)\n",
            "Downloading google_ai_generativelanguage-0.6.18-py3-none-any.whl (1.4 MB)\n",
            "\u001b[2K   \u001b[90m━━━━━━━━━━━━━━━━━━━━━━━━━━━━━━━━━━━━━━━━\u001b[0m \u001b[32m1.4/1.4 MB\u001b[0m \u001b[31m20.2 MB/s\u001b[0m eta \u001b[36m0:00:00\u001b[0m\n",
            "\u001b[?25hInstalling collected packages: filetype, google-ai-generativelanguage, langchain-google-genai\n",
            "  Attempting uninstall: google-ai-generativelanguage\n",
            "    Found existing installation: google-ai-generativelanguage 0.6.15\n",
            "    Uninstalling google-ai-generativelanguage-0.6.15:\n",
            "      Successfully uninstalled google-ai-generativelanguage-0.6.15\n",
            "\u001b[31mERROR: pip's dependency resolver does not currently take into account all the packages that are installed. This behaviour is the source of the following dependency conflicts.\n",
            "google-generativeai 0.8.5 requires google-ai-generativelanguage==0.6.15, but you have google-ai-generativelanguage 0.6.18 which is incompatible.\u001b[0m\u001b[31m\n",
            "\u001b[0mSuccessfully installed filetype-1.2.0 google-ai-generativelanguage-0.6.18 langchain-google-genai-2.1.3\n"
          ]
        },
        {
          "output_type": "display_data",
          "data": {
            "application/vnd.colab-display-data+json": {
              "pip_warning": {
                "packages": [
                  "google"
                ]
              },
              "id": "02fbdd0a8e8c4c30bbf7b556deabed5d"
            }
          },
          "metadata": {}
        },
        {
          "output_type": "stream",
          "name": "stdout",
          "text": [
            "Collecting google-ai-generativelanguage==0.6.17\n",
            "  Downloading google_ai_generativelanguage-0.6.17-py3-none-any.whl.metadata (9.8 kB)\n",
            "Requirement already satisfied: google-api-core!=2.0.*,!=2.1.*,!=2.10.*,!=2.2.*,!=2.3.*,!=2.4.*,!=2.5.*,!=2.6.*,!=2.7.*,!=2.8.*,!=2.9.*,<3.0.0,>=1.34.1 in /usr/local/lib/python3.11/dist-packages (from google-api-core[grpc]!=2.0.*,!=2.1.*,!=2.10.*,!=2.2.*,!=2.3.*,!=2.4.*,!=2.5.*,!=2.6.*,!=2.7.*,!=2.8.*,!=2.9.*,<3.0.0,>=1.34.1->google-ai-generativelanguage==0.6.17) (2.25.1)\n",
            "Requirement already satisfied: google-auth!=2.24.0,!=2.25.0,<3.0.0,>=2.14.1 in /usr/local/lib/python3.11/dist-packages (from google-ai-generativelanguage==0.6.17) (2.38.0)\n",
            "Requirement already satisfied: proto-plus<2.0.0,>=1.22.3 in /usr/local/lib/python3.11/dist-packages (from google-ai-generativelanguage==0.6.17) (1.26.1)\n",
            "Requirement already satisfied: protobuf!=4.21.0,!=4.21.1,!=4.21.2,!=4.21.3,!=4.21.4,!=4.21.5,<7.0.0,>=3.20.2 in /usr/local/lib/python3.11/dist-packages (from google-ai-generativelanguage==0.6.17) (5.29.5)\n",
            "Requirement already satisfied: googleapis-common-protos<2.0.0,>=1.56.2 in /usr/local/lib/python3.11/dist-packages (from google-api-core!=2.0.*,!=2.1.*,!=2.10.*,!=2.2.*,!=2.3.*,!=2.4.*,!=2.5.*,!=2.6.*,!=2.7.*,!=2.8.*,!=2.9.*,<3.0.0,>=1.34.1->google-api-core[grpc]!=2.0.*,!=2.1.*,!=2.10.*,!=2.2.*,!=2.3.*,!=2.4.*,!=2.5.*,!=2.6.*,!=2.7.*,!=2.8.*,!=2.9.*,<3.0.0,>=1.34.1->google-ai-generativelanguage==0.6.17) (1.70.0)\n",
            "Requirement already satisfied: requests<3.0.0,>=2.18.0 in /usr/local/lib/python3.11/dist-packages (from google-api-core!=2.0.*,!=2.1.*,!=2.10.*,!=2.2.*,!=2.3.*,!=2.4.*,!=2.5.*,!=2.6.*,!=2.7.*,!=2.8.*,!=2.9.*,<3.0.0,>=1.34.1->google-api-core[grpc]!=2.0.*,!=2.1.*,!=2.10.*,!=2.2.*,!=2.3.*,!=2.4.*,!=2.5.*,!=2.6.*,!=2.7.*,!=2.8.*,!=2.9.*,<3.0.0,>=1.34.1->google-ai-generativelanguage==0.6.17) (2.32.3)\n",
            "Requirement already satisfied: grpcio<2.0.0,>=1.33.2 in /usr/local/lib/python3.11/dist-packages (from google-api-core[grpc]!=2.0.*,!=2.1.*,!=2.10.*,!=2.2.*,!=2.3.*,!=2.4.*,!=2.5.*,!=2.6.*,!=2.7.*,!=2.8.*,!=2.9.*,<3.0.0,>=1.34.1->google-ai-generativelanguage==0.6.17) (1.73.0)\n",
            "Requirement already satisfied: grpcio-status<2.0.0,>=1.33.2 in /usr/local/lib/python3.11/dist-packages (from google-api-core[grpc]!=2.0.*,!=2.1.*,!=2.10.*,!=2.2.*,!=2.3.*,!=2.4.*,!=2.5.*,!=2.6.*,!=2.7.*,!=2.8.*,!=2.9.*,<3.0.0,>=1.34.1->google-ai-generativelanguage==0.6.17) (1.71.0)\n",
            "Requirement already satisfied: cachetools<6.0,>=2.0.0 in /usr/local/lib/python3.11/dist-packages (from google-auth!=2.24.0,!=2.25.0,<3.0.0,>=2.14.1->google-ai-generativelanguage==0.6.17) (5.5.2)\n",
            "Requirement already satisfied: pyasn1-modules>=0.2.1 in /usr/local/lib/python3.11/dist-packages (from google-auth!=2.24.0,!=2.25.0,<3.0.0,>=2.14.1->google-ai-generativelanguage==0.6.17) (0.4.2)\n",
            "Requirement already satisfied: rsa<5,>=3.1.4 in /usr/local/lib/python3.11/dist-packages (from google-auth!=2.24.0,!=2.25.0,<3.0.0,>=2.14.1->google-ai-generativelanguage==0.6.17) (4.9.1)\n",
            "Requirement already satisfied: pyasn1<0.7.0,>=0.6.1 in /usr/local/lib/python3.11/dist-packages (from pyasn1-modules>=0.2.1->google-auth!=2.24.0,!=2.25.0,<3.0.0,>=2.14.1->google-ai-generativelanguage==0.6.17) (0.6.1)\n",
            "Requirement already satisfied: charset-normalizer<4,>=2 in /usr/local/lib/python3.11/dist-packages (from requests<3.0.0,>=2.18.0->google-api-core!=2.0.*,!=2.1.*,!=2.10.*,!=2.2.*,!=2.3.*,!=2.4.*,!=2.5.*,!=2.6.*,!=2.7.*,!=2.8.*,!=2.9.*,<3.0.0,>=1.34.1->google-api-core[grpc]!=2.0.*,!=2.1.*,!=2.10.*,!=2.2.*,!=2.3.*,!=2.4.*,!=2.5.*,!=2.6.*,!=2.7.*,!=2.8.*,!=2.9.*,<3.0.0,>=1.34.1->google-ai-generativelanguage==0.6.17) (3.4.2)\n",
            "Requirement already satisfied: idna<4,>=2.5 in /usr/local/lib/python3.11/dist-packages (from requests<3.0.0,>=2.18.0->google-api-core!=2.0.*,!=2.1.*,!=2.10.*,!=2.2.*,!=2.3.*,!=2.4.*,!=2.5.*,!=2.6.*,!=2.7.*,!=2.8.*,!=2.9.*,<3.0.0,>=1.34.1->google-api-core[grpc]!=2.0.*,!=2.1.*,!=2.10.*,!=2.2.*,!=2.3.*,!=2.4.*,!=2.5.*,!=2.6.*,!=2.7.*,!=2.8.*,!=2.9.*,<3.0.0,>=1.34.1->google-ai-generativelanguage==0.6.17) (3.10)\n",
            "Requirement already satisfied: urllib3<3,>=1.21.1 in /usr/local/lib/python3.11/dist-packages (from requests<3.0.0,>=2.18.0->google-api-core!=2.0.*,!=2.1.*,!=2.10.*,!=2.2.*,!=2.3.*,!=2.4.*,!=2.5.*,!=2.6.*,!=2.7.*,!=2.8.*,!=2.9.*,<3.0.0,>=1.34.1->google-api-core[grpc]!=2.0.*,!=2.1.*,!=2.10.*,!=2.2.*,!=2.3.*,!=2.4.*,!=2.5.*,!=2.6.*,!=2.7.*,!=2.8.*,!=2.9.*,<3.0.0,>=1.34.1->google-ai-generativelanguage==0.6.17) (2.4.0)\n",
            "Requirement already satisfied: certifi>=2017.4.17 in /usr/local/lib/python3.11/dist-packages (from requests<3.0.0,>=2.18.0->google-api-core!=2.0.*,!=2.1.*,!=2.10.*,!=2.2.*,!=2.3.*,!=2.4.*,!=2.5.*,!=2.6.*,!=2.7.*,!=2.8.*,!=2.9.*,<3.0.0,>=1.34.1->google-api-core[grpc]!=2.0.*,!=2.1.*,!=2.10.*,!=2.2.*,!=2.3.*,!=2.4.*,!=2.5.*,!=2.6.*,!=2.7.*,!=2.8.*,!=2.9.*,<3.0.0,>=1.34.1->google-ai-generativelanguage==0.6.17) (2025.6.15)\n",
            "Downloading google_ai_generativelanguage-0.6.17-py3-none-any.whl (1.4 MB)\n",
            "\u001b[2K   \u001b[90m━━━━━━━━━━━━━━━━━━━━━━━━━━━━━━━━━━━━━━━━\u001b[0m \u001b[32m1.4/1.4 MB\u001b[0m \u001b[31m13.4 MB/s\u001b[0m eta \u001b[36m0:00:00\u001b[0m\n",
            "\u001b[?25hInstalling collected packages: google-ai-generativelanguage\n",
            "  Attempting uninstall: google-ai-generativelanguage\n",
            "    Found existing installation: google-ai-generativelanguage 0.6.18\n",
            "    Uninstalling google-ai-generativelanguage-0.6.18:\n",
            "      Successfully uninstalled google-ai-generativelanguage-0.6.18\n",
            "\u001b[31mERROR: pip's dependency resolver does not currently take into account all the packages that are installed. This behaviour is the source of the following dependency conflicts.\n",
            "google-generativeai 0.8.5 requires google-ai-generativelanguage==0.6.15, but you have google-ai-generativelanguage 0.6.17 which is incompatible.\u001b[0m\u001b[31m\n",
            "\u001b[0mSuccessfully installed google-ai-generativelanguage-0.6.17\n"
          ]
        },
        {
          "output_type": "display_data",
          "data": {
            "application/vnd.colab-display-data+json": {
              "pip_warning": {
                "packages": [
                  "google"
                ]
              },
              "id": "9f4c4334991248a0826fa81813eca984"
            }
          },
          "metadata": {}
        }
      ]
    },
    {
      "cell_type": "code",
      "source": [
        "import google.generativeai as genai #using gemini and its embedings\n",
        "from google.colab import userdata #for ease in hiding api key\n",
        "from IPython.display import Markdown #for nice display"
      ],
      "metadata": {
        "id": "VhocKgqfk4tH"
      },
      "execution_count": null,
      "outputs": []
    },
    {
      "cell_type": "markdown",
      "source": [
        "# Code"
      ],
      "metadata": {
        "id": "0nmDPwiqbRHM"
      }
    },
    {
      "cell_type": "code",
      "source": [
        "import pdfplumber\n",
        "pdf = pdfplumber.open(\"/content/IT-Final-version-PS-I-chronicles.pdf\")\n",
        "text = \"\"\n",
        "for sheet in pdf.pages:\n",
        "  text = text + sheet.extract_text()"
      ],
      "metadata": {
        "id": "ogXzfNFBA1sT",
        "collapsed": true
      },
      "execution_count": null,
      "outputs": []
    },
    {
      "cell_type": "code",
      "source": [
        "from langchain.text_splitter import RecursiveCharacterTextSplitter\n",
        "text_splitter = RecursiveCharacterTextSplitter(\n",
        "    separators=[\"\\n\\n\", \"\\n\", \".\", \"!\", \"?\", \" \", \"\"],#this does not imply, that at every fullstop and \\n it will split, rather it will use this paramters to do so keeping in mind the chunk size\n",
        "    chunk_size=600,\n",
        "    chunk_overlap=100, #to ensure preservation of context\n",
        "    length_function=len\n",
        "\n",
        ")\n",
        "texts = text_splitter.split_text(text)\n",
        "texts[200]"
      ],
      "metadata": {
        "id": "gTpVt5zo3HxC",
        "colab": {
          "base_uri": "https://localhost:8080/",
          "height": 70
        },
        "outputId": "839ca86c-d43f-47de-b0e6-cc43ed09b6b7"
      },
      "execution_count": null,
      "outputs": [
        {
          "output_type": "execute_result",
          "data": {
            "text/plain": [
              "'25Name: UTKARSH BHASKAR .(2021B3A71610H) ................................................................................ 342\\nPS-I station: FinMapp (Fininfinity Technologies Pvt. Ltd.) - Tech , Gurugram ......................................... 343\\nStudent .................................................................................................................................................. 343\\nName: VIDIT BUBNA .(2021B3A72494P) .......................................................................................... 343'"
            ],
            "application/vnd.google.colaboratory.intrinsic+json": {
              "type": "string"
            }
          },
          "metadata": {},
          "execution_count": 4
        }
      ]
    },
    {
      "cell_type": "markdown",
      "source": [
        "## Cleaning"
      ],
      "metadata": {
        "id": "j_PlUtJ459gq"
      }
    },
    {
      "cell_type": "code",
      "source": [
        "res = []\n",
        "for sub in texts:\n",
        "    text1 = sub.replace(\"\\n\", \" \")\n",
        "    text2 = text1.replace(\".\", \"\")\n",
        "    res.append(text2)"
      ],
      "metadata": {
        "collapsed": true,
        "id": "qCHocLZG0fW0"
      },
      "execution_count": null,
      "outputs": []
    },
    {
      "cell_type": "code",
      "source": [
        "texts = res"
      ],
      "metadata": {
        "id": "Mz74qPLWsnKa"
      },
      "execution_count": null,
      "outputs": []
    },
    {
      "cell_type": "code",
      "source": [
        "texts[200]"
      ],
      "metadata": {
        "colab": {
          "base_uri": "https://localhost:8080/",
          "height": 35
        },
        "id": "lRDBGupGsqK6",
        "outputId": "7eda132b-4054-47e6-a8b5-29d0d929b896"
      },
      "execution_count": null,
      "outputs": [
        {
          "output_type": "execute_result",
          "data": {
            "text/plain": [
              "'25Name: UTKARSH BHASKAR (2021B3A71610H)  342 PS-I station: FinMapp (Fininfinity Technologies Pvt Ltd) - Tech , Gurugram  343 Student  343 Name: VIDIT BUBNA (2021B3A72494P)  343'"
            ],
            "application/vnd.google.colaboratory.intrinsic+json": {
              "type": "string"
            }
          },
          "metadata": {},
          "execution_count": 7
        }
      ]
    },
    {
      "cell_type": "code",
      "source": [
        "Google_api_key = userdata.get('gemini-api') #its ur gateway, special key to communicate with gemini and request it to help u out\n",
        "genai.configure(api_key=Google_api_key)"
      ],
      "metadata": {
        "id": "4JtjeyIeoOXZ"
      },
      "execution_count": null,
      "outputs": []
    },
    {
      "cell_type": "code",
      "source": [
        "from langchain_google_genai import GoogleGenerativeAIEmbeddings\n",
        "embeddings = GoogleGenerativeAIEmbeddings(model = \"models/text-embedding-004\", google_api_key=Google_api_key)"
      ],
      "metadata": {
        "id": "oTaQ6CgZn8WR"
      },
      "execution_count": null,
      "outputs": []
    },
    {
      "cell_type": "markdown",
      "source": [
        "## Vector Store"
      ],
      "metadata": {
        "id": "o9H14X5JWDZJ"
      }
    },
    {
      "cell_type": "code",
      "source": [
        "from langchain.vectorstores import Chroma\n",
        "vector_index = Chroma.from_texts(texts, embeddings).as_retriever(search_kwargs={\"k\": 10})"
      ],
      "metadata": {
        "id": "19TULNNTrRyS"
      },
      "execution_count": null,
      "outputs": []
    },
    {
      "cell_type": "code",
      "source": [
        "from langchain.chains import RetrievalQA\n",
        "from langchain_google_genai import ChatGoogleGenerativeAI\n",
        "from langchain.chains.question_answering import load_qa_chain"
      ],
      "metadata": {
        "id": "EWyb4JQjvKii"
      },
      "execution_count": null,
      "outputs": []
    },
    {
      "cell_type": "code",
      "source": [
        "model = ChatGoogleGenerativeAI(model = \"gemini-2.0-flash\", google_api_key=Google_api_key, temperature = 0.3, convert_system_message_to_human = True)"
      ],
      "metadata": {
        "id": "tLrFUtl1yCQv"
      },
      "execution_count": null,
      "outputs": []
    },
    {
      "cell_type": "code",
      "source": [
        "import warnings\n",
        "# Suppress the specific warning\n",
        "warnings.filterwarnings(\"ignore\", category=UserWarning, message=\"Convert_system_message_to_human will be deprecated!\")"
      ],
      "metadata": {
        "id": "zonGVouxcKFw"
      },
      "execution_count": null,
      "outputs": []
    },
    {
      "cell_type": "code",
      "source": [
        "from langchain.prompts import PromptTemplate\n",
        "template = \"\"\"\n",
        "{context}\n",
        "Question; {question}\n",
        "Helpful answer: \"\"\"\n",
        "QA_chain_prompt = PromptTemplate.from_template(template)\n",
        "qa_chain = RetrievalQA.from_chain_type(\n",
        "    llm = model,\n",
        "    retriever = vector_index,\n",
        "    return_source_documents=True,\n",
        "    chain_type_kwargs={\"prompt\": QA_chain_prompt}\n",
        ")\n",
        "\n",
        "#when i detailed the template to solely stick to the context, which it is already doing by default, it turned out to giving stricter outputs, often missing some imp data\n",
        "#like what was the official cg cutoff. so I didnt pressurize it much!"
      ],
      "metadata": {
        "id": "_NHNhI07GFrn"
      },
      "execution_count": null,
      "outputs": []
    },
    {
      "cell_type": "markdown",
      "source": [
        "## Put your question in the box below!"
      ],
      "metadata": {
        "id": "eVBFnHA9J0TF"
      }
    },
    {
      "cell_type": "code",
      "source": [
        "question = \"name the companies offering online internships\"\n",
        "result = qa_chain.invoke({\"query\": question}) #langchain says, invoke is the new way to speak now.\n",
        "Markdown(result[\"result\"])"
      ],
      "metadata": {
        "colab": {
          "base_uri": "https://localhost:8080/",
          "height": 87
        },
        "id": "mGh3SP_XVVJi",
        "outputId": "b1b2ede3-4687-41b2-9647-0cd709af692e"
      },
      "execution_count": null,
      "outputs": [
        {
          "output_type": "execute_result",
          "data": {
            "text/plain": [
              "<IPython.core.display.Markdown object>"
            ],
            "text/markdown": "Based on the provided text snippets, here are the companies offering online internships:\n\n*   **Arbunize digital media (sister company Getboarded)**\n*   **MapmyIndia**"
          },
          "metadata": {},
          "execution_count": 15
        }
      ]
    },
    {
      "cell_type": "code",
      "source": [],
      "metadata": {
        "id": "bpDBcx4ERVLk"
      },
      "execution_count": null,
      "outputs": []
    }
  ]
}